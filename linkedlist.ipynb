{
 "cells": [
  {
   "cell_type": "code",
   "execution_count": 1,
   "id": "caeaf62e",
   "metadata": {},
   "outputs": [
    {
     "name": "stdout",
     "output_type": "stream",
     "text": [
      "10 -> 20 -> 30 -> None\n"
     ]
    }
   ],
   "source": [
    "# Node for singly linked list\n",
    "class Node:\n",
    "    def __init__(self, data):\n",
    "        self.data = data\n",
    "        self.next = None\n",
    "\n",
    "# Singly Linked List\n",
    "class SinglyLinkedList:\n",
    "    def __init__(self):\n",
    "        self.head = None\n",
    "\n",
    "    def insert_at_end(self, data):\n",
    "        new_node = Node(data)\n",
    "        if not self.head: # is head empty\n",
    "            self.head = new_node\n",
    "            return\n",
    "        curr = self.head\n",
    "        while curr.next:\n",
    "            curr = curr.next\n",
    "        curr.next = new_node\n",
    "\n",
    "    def display(self):\n",
    "        curr = self.head\n",
    "        while curr:\n",
    "            print(curr.data, end=\" -> \")\n",
    "            curr = curr.next\n",
    "        print(\"None\")\n",
    "\n",
    "# Example\n",
    "sll = SinglyLinkedList()\n",
    "sll.insert_at_end(10)\n",
    "sll.insert_at_end(20)\n",
    "sll.insert_at_end(30)\n",
    "sll.display()"
   ]
  },
  {
   "cell_type": "code",
   "execution_count": 4,
   "id": "403fdb1a",
   "metadata": {},
   "outputs": [
    {
     "name": "stdout",
     "output_type": "stream",
     "text": [
      "100 <-> 200 <-> 300 <-> None\n"
     ]
    }
   ],
   "source": [
    "#Doubly Linked List \n",
    "\n",
    "# Node for doubly linked list\n",
    "class DNode:\n",
    "    def __init__(self, data):\n",
    "        self.data = data\n",
    "        self.prev = None\n",
    "        self.next = None\n",
    "\n",
    "# Doubly Linked List\n",
    "class DoublyLinkedList:\n",
    "    def __init__(self):\n",
    "        self.head = None\n",
    "\n",
    "    def insert_at_end(self, data):\n",
    "        new_node = DNode(data)\n",
    "        if not self.head:\n",
    "            self.head = new_node\n",
    "            return\n",
    "        curr = self.head\n",
    "        while curr.next:\n",
    "            curr = curr.next\n",
    "        curr.next = new_node\n",
    "        new_node.prev = curr\n",
    "\n",
    "    def display(self):\n",
    "        curr = self.head\n",
    "        while curr:\n",
    "            print(curr.data, end=\" <-> \")\n",
    "            curr = curr.next\n",
    "        print(\"None\")\n",
    "\n",
    "# Example\n",
    "dll = DoublyLinkedList()\n",
    "dll.insert_at_end(100)\n",
    "dll.insert_at_end(200)\n",
    "dll.insert_at_end(300)\n",
    "dll.display()"
   ]
  },
  {
   "cell_type": "code",
   "execution_count": 7,
   "id": "5b3061cd",
   "metadata": {},
   "outputs": [
    {
     "name": "stdout",
     "output_type": "stream",
     "text": [
      "5 -> 10 -> 15 -> (back to head)\n"
     ]
    }
   ],
   "source": [
    "#Circular Singly Linked List \n",
    "# Node for circular singly linked list\n",
    "class CNode:\n",
    "    def __init__(self, data):\n",
    "        self.data = data\n",
    "        self.next = None\n",
    "\n",
    "# Circular Singly Linked List\n",
    "class CircularSinglyLinkedList:\n",
    "    def __init__(self):\n",
    "        self.head = None\n",
    "\n",
    "    def insert_at_end(self, data):\n",
    "        new_node = CNode(data)\n",
    "        if not self.head:  #if list is empty\n",
    "            self.head = new_node\n",
    "            new_node.next = self.head #  to maintain circularity. #In a circular list, even a single node must point to itself.\n",
    "            return\n",
    "        curr = self.head  #if list is not empty\n",
    "        while curr.next != self.head:\n",
    "            curr = curr.next\n",
    "        curr.next = new_node #Link the last node to the new node\n",
    "        new_node.next = self.head #  link new_node.next back to the head to preserve circularity.\n",
    "\n",
    "    def display(self):\n",
    "        if not self.head:\n",
    "            print(\"Empty List\")\n",
    "            return\n",
    "        curr = self.head\n",
    "        while True:\n",
    "            print(curr.data, end=\" -> \")\n",
    "            curr = curr.next\n",
    "            if curr == self.head:\n",
    "                break\n",
    "        print(\"(back to head)\")\n",
    "\n",
    "# Example\n",
    "csll = CircularSinglyLinkedList()\n",
    "csll.insert_at_end(5)\n",
    "csll.insert_at_end(10)\n",
    "csll.insert_at_end(15)\n",
    "csll.display()"
   ]
  },
  {
   "cell_type": "code",
   "execution_count": 8,
   "id": "ba8787cf",
   "metadata": {},
   "outputs": [
    {
     "name": "stdout",
     "output_type": "stream",
     "text": [
      "50 <-> 60 <-> 70 <-> (back to head)\n"
     ]
    }
   ],
   "source": [
    "#Circular Doubly Linked List\n",
    "# Node for circular doubly linked list\n",
    "class CDNode:\n",
    "    def __init__(self, data):\n",
    "        self.data = data\n",
    "        self.prev = None\n",
    "        self.next = None\n",
    "\n",
    "# Circular Doubly Linked List\n",
    "class CircularDoublyLinkedList:\n",
    "    def __init__(self):\n",
    "        self.head = None\n",
    "\n",
    "    def insert_at_end(self, data):\n",
    "        new_node = CDNode(data)\n",
    "        if not self.head:\n",
    "            self.head = new_node\n",
    "            new_node.next = new_node.prev = new_node #maintains both circularity and doubly-linked nature even with one node.\n",
    "            return\n",
    "        last = self.head.prev #ircular doubly linked list, the previous of head (head.prev) is the last node.\n",
    "        last.next = new_node\n",
    "        new_node.prev = last\n",
    "        new_node.next = self.head \n",
    "        self.head.prev = new_node\n",
    "\n",
    "    def display(self):\n",
    "        if not self.head:\n",
    "            print(\"Empty List\")\n",
    "            return\n",
    "        curr = self.head\n",
    "        while True:\n",
    "            print(curr.data, end=\" <-> \")\n",
    "            curr = curr.next\n",
    "            if curr == self.head:\n",
    "                break\n",
    "        print(\"(back to head)\")\n",
    "\n",
    "# Example\n",
    "cdll = CircularDoublyLinkedList()\n",
    "cdll.insert_at_end(50)\n",
    "cdll.insert_at_end(60)\n",
    "cdll.insert_at_end(70)\n",
    "cdll.display()"
   ]
  },
  {
   "cell_type": "code",
   "execution_count": 11,
   "id": "d0dfb9b2",
   "metadata": {},
   "outputs": [
    {
     "name": "stdout",
     "output_type": "stream",
     "text": [
      "3 -> 2 -> 1 -> None\n"
     ]
    }
   ],
   "source": [
    "#Reverse a Singly Linked List\n",
    "class Node:\n",
    "    def __init__(self, data):\n",
    "        self.data = data\n",
    "        self.next = None\n",
    "\n",
    "def reverse_list(head):\n",
    "    prev = None\n",
    "    current = head\n",
    "    while current:\n",
    "        next_node = current.next\n",
    "        current.next = prev\n",
    "        prev = current\n",
    "        current = next_node\n",
    "    return prev\n",
    "\n",
    "# Create list: 1 -> 2 -> 3 -> None\n",
    "head = Node(1)\n",
    "head.next = Node(2)\n",
    "head.next.next = Node(3)\n",
    "\n",
    "# Reverse it\n",
    "new_head = reverse_list(head)\n",
    "\n",
    "# Print result\n",
    "curr = new_head\n",
    "while curr:\n",
    "    print(curr.data, end=\" -> \")\n",
    "    curr = curr.next\n",
    "print(\"None\")"
   ]
  },
  {
   "cell_type": "code",
   "execution_count": 12,
   "id": "23c12d39",
   "metadata": {},
   "outputs": [
    {
     "name": "stdout",
     "output_type": "stream",
     "text": [
      "False\n",
      "True\n"
     ]
    }
   ],
   "source": [
    "#Detect a Loop in a Linked List\n",
    "def has_loop(head):\n",
    "    slow = fast = head\n",
    "    while fast and fast.next:\n",
    "        slow = slow.next\n",
    "        fast = fast.next.next\n",
    "        if slow == fast:\n",
    "            return True\n",
    "    return False\n",
    "\n",
    "# Example with no loop\n",
    "head = Node(1)\n",
    "head.next = Node(2)\n",
    "head.next.next = Node(3)\n",
    "print(has_loop(head))  # False\n",
    "\n",
    "# Example with loop\n",
    "head.next.next.next = head  # Creating a loop\n",
    "print(has_loop(head))  # True"
   ]
  },
  {
   "cell_type": "code",
   "execution_count": 13,
   "id": "a0396fe3",
   "metadata": {},
   "outputs": [
    {
     "name": "stdout",
     "output_type": "stream",
     "text": [
      "3\n"
     ]
    }
   ],
   "source": [
    "#Find the Middle Element of a Linked List\n",
    "def find_middle(head):\n",
    "    slow = fast = head\n",
    "    while fast and fast.next:\n",
    "        slow = slow.next\n",
    "        fast = fast.next.next\n",
    "    return slow.data\n",
    "\n",
    "# Create list: 1 -> 2 -> 3 -> 4 -> 5\n",
    "head = Node(1)\n",
    "head.next = Node(2)\n",
    "head.next.next = Node(3)\n",
    "head.next.next.next = Node(4)\n",
    "head.next.next.next.next = Node(5)\n",
    "\n",
    "print(find_middle(head))  # 3"
   ]
  },
  {
   "cell_type": "code",
   "execution_count": 15,
   "id": "2490092e",
   "metadata": {},
   "outputs": [
    {
     "name": "stdout",
     "output_type": "stream",
     "text": [
      "1 -> 2 -> 3 -> 4 -> 5 -> 6 -> None\n"
     ]
    }
   ],
   "source": [
    "#Merge Two Sorted Linked Lists\n",
    "def merge_sorted_lists(l1, l2):\n",
    "    dummy = Node(0)\n",
    "    tail = dummy\n",
    "\n",
    "    while l1 and l2:\n",
    "        if l1.data < l2.data:\n",
    "            tail.next = l1\n",
    "            l1 = l1.next\n",
    "        else:\n",
    "            tail.next = l2\n",
    "            l2 = l2.next\n",
    "        tail = tail.next\n",
    "\n",
    "    tail.next = l1 or l2\n",
    "    return dummy.next\n",
    "\n",
    "# List1: 1 -> 3 -> 5\n",
    "a = Node(1)\n",
    "a.next = Node(3)\n",
    "a.next.next = Node(5)\n",
    "\n",
    "# List2: 2 -> 4 -> 6\n",
    "b = Node(2)\n",
    "b.next = Node(4)\n",
    "b.next.next = Node(6)\n",
    "\n",
    "# Merge and print\n",
    "merged = merge_sorted_lists(a, b)\n",
    "curr = merged\n",
    "while curr:\n",
    "    print(curr.data, end=\" -> \")\n",
    "    curr = curr.next\n",
    "print(\"None\")\n"
   ]
  },
  {
   "cell_type": "code",
   "execution_count": 17,
   "id": "04efb3e5",
   "metadata": {},
   "outputs": [
    {
     "name": "stdout",
     "output_type": "stream",
     "text": [
      "1 -> 2 -> 3 -> None\n"
     ]
    }
   ],
   "source": [
    "#Remove Duplicates from a Linked List\n",
    "def remove_duplicates(head):\n",
    "    seen = set()\n",
    "    current = head\n",
    "    prev = None\n",
    "    while current:\n",
    "        if current.data in seen:\n",
    "            prev.next = current.next\n",
    "        else:\n",
    "            seen.add(current.data)\n",
    "            prev = current\n",
    "        current = current.next\n",
    "\n",
    "# Create list: 1 -> 2 -> 2 -> 3\n",
    "head = Node(1)\n",
    "head.next = Node(2)\n",
    "head.next.next = Node(2)\n",
    "head.next.next.next = Node(3)\n",
    "\n",
    "remove_duplicates(head)\n",
    "\n",
    "# Print result\n",
    "curr = head\n",
    "while curr:\n",
    "    print(curr.data, end=\" -> \")\n",
    "    curr = curr.next\n",
    "print(\"None\")"
   ]
  }
 ],
 "metadata": {
  "kernelspec": {
   "display_name": "Python 3",
   "language": "python",
   "name": "python3"
  },
  "language_info": {
   "codemirror_mode": {
    "name": "ipython",
    "version": 3
   },
   "file_extension": ".py",
   "mimetype": "text/x-python",
   "name": "python",
   "nbconvert_exporter": "python",
   "pygments_lexer": "ipython3",
   "version": "3.9.6"
  }
 },
 "nbformat": 4,
 "nbformat_minor": 5
}
