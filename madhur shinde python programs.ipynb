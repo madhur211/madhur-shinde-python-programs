{
 "cells": [
  {
   "cell_type": "code",
   "execution_count": 62,
   "id": "2e01384b",
   "metadata": {},
   "outputs": [
    {
     "name": "stdout",
     "output_type": "stream",
     "text": [
      "Dictionary: {'name': 'Alex', 'age': 21, 'branch': 'Machine Learning'}\n"
     ]
    }
   ],
   "source": [
    "# Declaring a dictionary\n",
    "student = {\n",
    "    \"name\": \"Alex\",\n",
    "    \"age\": 21,\n",
    "    \"branch\": \"Machine Learning\"\n",
    "}\n",
    "print(\"Dictionary:\", student)\n"
   ]
  },
  {
   "cell_type": "code",
   "execution_count": 63,
   "id": "57116296",
   "metadata": {},
   "outputs": [
    {
     "name": "stdout",
     "output_type": "stream",
     "text": [
      "Alex\n",
      "None\n"
     ]
    }
   ],
   "source": [
    "person = {\"name\": \"Alex\", \"age\": 25, \"city\": \"Mumbai\"}\n",
    "\n",
    "# Fetch existing key\n",
    "print(person.get(\"name\"))        # Output: Alex\n",
    "\n",
    "# Fetch non-existing key\n",
    "print(person.get(\"country\"))     # Output: None\n"
   ]
  },
  {
   "cell_type": "code",
   "execution_count": 64,
   "id": "a9593200",
   "metadata": {},
   "outputs": [
    {
     "name": "stdout",
     "output_type": "stream",
     "text": [
      "dict_keys(['name', 'age', 'city'])\n"
     ]
    }
   ],
   "source": [
    "person = {\"name\": \"Alex\", \"age\": 25, \"city\": \"Mumbai\"}\n",
    "\n",
    "# Get all keys\n",
    "print(person.keys())\n"
   ]
  },
  {
   "cell_type": "code",
   "execution_count": 65,
   "id": "4479b098",
   "metadata": {},
   "outputs": [
    {
     "name": "stdout",
     "output_type": "stream",
     "text": [
      "dict_values(['Alex', 25, 'Mumbai'])\n"
     ]
    }
   ],
   "source": [
    "person = {\"name\": \"Alex\", \"age\": 25, \"city\": \"Mumbai\"}\n",
    "\n",
    "# Get all values\n",
    "print(person.values())\n"
   ]
  },
  {
   "cell_type": "code",
   "execution_count": 66,
   "id": "52fba21f",
   "metadata": {},
   "outputs": [
    {
     "name": "stdout",
     "output_type": "stream",
     "text": [
      "dict_items([('name', 'Alex'), ('age', 25), ('city', 'Mumbai')])\n"
     ]
    }
   ],
   "source": [
    "person = {\"name\": \"Alex\", \"age\": 25, \"city\": \"Mumbai\"}\n",
    "\n",
    "# Get all key-value pairs\n",
    "print(person.items())\n"
   ]
  },
  {
   "cell_type": "code",
   "execution_count": 67,
   "id": "624f588c",
   "metadata": {},
   "outputs": [
    {
     "name": "stdout",
     "output_type": "stream",
     "text": [
      "{'name': 'Alex', 'age': 26, 'city': 'Mumbai', 'country': 'India'}\n"
     ]
    }
   ],
   "source": [
    "person = {\"name\": \"Alex\", \"age\": 25, \"city\": \"Mumbai\"}\n",
    "\n",
    "# Update dictionary with new data\n",
    "person.update({\"age\": 26, \"country\": \"India\"})\n",
    "print(person)\n"
   ]
  },
  {
   "cell_type": "code",
   "execution_count": 68,
   "id": "ab936d85",
   "metadata": {},
   "outputs": [
    {
     "name": "stdout",
     "output_type": "stream",
     "text": [
      "Removed value: Mumbai\n",
      "{'name': 'Alex', 'age': 25}\n"
     ]
    }
   ],
   "source": [
    "person = {\"name\": \"Alex\", \"age\": 25, \"city\": \"Mumbai\"}\n",
    "\n",
    "# Remove a key and get its value\n",
    "removed_value = person.pop(\"city\")\n",
    "print(\"Removed value:\", removed_value)\n",
    "print(person)\n"
   ]
  },
  {
   "cell_type": "code",
   "execution_count": 69,
   "id": "20607217",
   "metadata": {},
   "outputs": [
    {
     "name": "stdout",
     "output_type": "stream",
     "text": [
      "Removed last item: ('city', 'Mumbai')\n",
      "{'name': 'Alex', 'age': 25}\n"
     ]
    }
   ],
   "source": [
    "person = {\"name\": \"Alex\", \"age\": 25, \"city\": \"Mumbai\"}\n",
    "\n",
    "# Remove last inserted item\n",
    "last_item = person.popitem()\n",
    "print(\"Removed last item:\", last_item)\n",
    "print(person)\n"
   ]
  },
  {
   "cell_type": "code",
   "execution_count": 70,
   "id": "8310b50f",
   "metadata": {},
   "outputs": [
    {
     "name": "stdout",
     "output_type": "stream",
     "text": [
      "{}\n"
     ]
    }
   ],
   "source": [
    "person = {\"name\": \"Alex\", \"age\": 25, \"city\": \"Mumbai\"}\n",
    "\n",
    "# Clear dictionary\n",
    "person.clear()\n",
    "print(person)\n"
   ]
  },
  {
   "cell_type": "code",
   "execution_count": 71,
   "id": "692bedef",
   "metadata": {},
   "outputs": [
    {
     "name": "stdout",
     "output_type": "stream",
     "text": [
      "Copy: {'name': 'Alex', 'age': 25, 'city': 'Mumbai'}\n"
     ]
    }
   ],
   "source": [
    "person = {\"name\": \"Alex\", \"age\": 25, \"city\": \"Mumbai\"}\n",
    "\n",
    "# Make a copy\n",
    "person_copy = person.copy()\n",
    "print(\"Copy:\", person_copy)\n"
   ]
  },
  {
   "cell_type": "code",
   "execution_count": 72,
   "id": "316cb8ce",
   "metadata": {},
   "outputs": [
    {
     "name": "stdout",
     "output_type": "stream",
     "text": [
      "{'name': 'Alex', 'age': 25, 'city': 'Mumbai', 'country': 'India'}\n"
     ]
    }
   ],
   "source": [
    "person = {\"name\": \"Alex\", \"age\": 25, \"city\": \"Mumbai\"}\n",
    "\n",
    "# Get value if exists, else set a default\n",
    "value = person.setdefault(\"country\", \"India\")\n",
    "print(person)\n"
   ]
  },
  {
   "cell_type": "code",
   "execution_count": 73,
   "id": "68207e67",
   "metadata": {},
   "outputs": [
    {
     "name": "stdout",
     "output_type": "stream",
     "text": [
      "{'name': 'Alex', 'city': 'Mumbai'}\n"
     ]
    }
   ],
   "source": [
    "person = {\"name\": \"Alex\", \"age\": 25, \"city\": \"Mumbai\"}\n",
    "\n",
    "# Delete a specific key\n",
    "del person[\"age\"]\n",
    "print(person)\n",
    "\n",
    "# Delete the entire dictionary\n",
    "del person\n",
    "#print(person)  # Uncommenting this will raise a NameError\n"
   ]
  },
  {
   "cell_type": "code",
   "execution_count": 74,
   "id": "087b140a",
   "metadata": {},
   "outputs": [
    {
     "name": "stdout",
     "output_type": "stream",
     "text": [
      "{1: 1, 2: 2, 3: 3, 4: 1}\n"
     ]
    }
   ],
   "source": [
    "numbers = [1, 2, 2, 3, 3, 3, 4]\n",
    "frequency = {}\n",
    "\n",
    "for num in numbers:\n",
    "    if num in frequency:\n",
    "        frequency[num] += 1\n",
    "    else:\n",
    "        frequency[num] = 1\n",
    "\n",
    "print(frequency)\n"
   ]
  },
  {
   "cell_type": "code",
   "execution_count": 82,
   "id": "6e73a3ad",
   "metadata": {},
   "outputs": [
    {
     "name": "stdout",
     "output_type": "stream",
     "text": [
      "Topper is: Emma\n"
     ]
    }
   ],
   "source": [
    "marks = {\"John\": 45, \"Emma\": 88, \"Noah\": 77}\n",
    "\n",
    "# Find key with maximum value\n",
    "topper = max(marks, key=marks.get)\n",
    "print(\"Topper is:\", topper)\n"
   ]
  },
  {
   "cell_type": "code",
   "execution_count": 89,
   "id": "3a919bb1",
   "metadata": {},
   "outputs": [
    {
     "name": "stdout",
     "output_type": "stream",
     "text": [
      "{'a': 1, 'b': 3, 'c': 4}\n"
     ]
    }
   ],
   "source": [
    "dict1 = {\"a\": 1, \"b\": 2}\n",
    "dict2 = {\"b\": 3, \"c\": 4}\n",
    "\n",
    "# Merge using update()\n",
    "dict1.update(dict2)\n",
    "print(dict1)\n"
   ]
  },
  {
   "cell_type": "code",
   "execution_count": 95,
   "id": "56114170",
   "metadata": {},
   "outputs": [
    {
     "name": "stdout",
     "output_type": "stream",
     "text": [
      "{1: 'a', 2: 'b', 3: 'c'}\n"
     ]
    }
   ],
   "source": [
    "original = {'a': 1, 'b': 2, 'c': 3}\n",
    "inverted = {}\n",
    "\n",
    "for key, value in original.items():\n",
    "    inverted[value] = key\n",
    "\n",
    "print(inverted)\n"
   ]
  },
  {
   "cell_type": "code",
   "execution_count": 100,
   "id": "e73e4917",
   "metadata": {},
   "outputs": [
    {
     "name": "stdout",
     "output_type": "stream",
     "text": [
      "True\n",
      "False\n"
     ]
    }
   ],
   "source": [
    "dict1 = {\"a\": 1, \"b\": 2}\n",
    "dict2 = {\"b\": 2, \"a\": 1}\n",
    "\n",
    "# Compare directly\n",
    "print(dict1 == dict2)  # True\n",
    "\n",
    "# Another Example\n",
    "dict3 = {\"a\": 2, \"b\": 1}\n",
    "print(dict1 == dict3)  # False\n"
   ]
  },
  {
   "cell_type": "code",
   "execution_count": 104,
   "id": "a0a9988c",
   "metadata": {},
   "outputs": [
    {
     "name": "stdout",
     "output_type": "stream",
     "text": [
      "Alex\n",
      "None\n"
     ]
    }
   ],
   "source": [
    "#using get\n",
    "person = {\"name\": \"Alex\", \"age\": 25, \"city\": \"Mumbai\"}\n",
    "\n",
    "# Fetch existing key\n",
    "print(person.get(\"name\"))        # Alex\n",
    "\n",
    "# Fetch non-existing key\n",
    "print(person.get(\"country\"))     #  None"
   ]
  },
  {
   "cell_type": "code",
   "execution_count": 107,
   "id": "8ffc71cd",
   "metadata": {},
   "outputs": [
    {
     "name": "stdout",
     "output_type": "stream",
     "text": [
      "dict_keys(['name', 'age', 'city'])\n"
     ]
    }
   ],
   "source": [
    "#key\n",
    "person = {\"name\": \"Alex\", \"age\": 25, \"city\": \"Mumbai\"}\n",
    "\n",
    "# Getting  all keys\n",
    "print(person.keys())\n",
    "\n",
    "\n"
   ]
  },
  {
   "cell_type": "code",
   "execution_count": 109,
   "id": "16865354",
   "metadata": {},
   "outputs": [
    {
     "name": "stdout",
     "output_type": "stream",
     "text": [
      "dict_values(['Alex', 25, 'Mumbai'])\n"
     ]
    }
   ],
   "source": [
    "#values\n",
    "person = {\"name\": \"Alex\", \"age\": 25, \"city\": \"Mumbai\"}\n",
    "\n",
    "# Getting all values\n",
    "print(person.values())\n"
   ]
  },
  {
   "cell_type": "code",
   "execution_count": null,
   "id": "205aa1f0",
   "metadata": {},
   "outputs": [],
   "source": []
  },
  {
   "cell_type": "code",
   "execution_count": null,
   "id": "45ca29bf",
   "metadata": {},
   "outputs": [],
   "source": []
  }
 ],
 "metadata": {
  "kernelspec": {
   "display_name": "Python 3",
   "language": "python",
   "name": "python3"
  },
  "language_info": {
   "codemirror_mode": {
    "name": "ipython",
    "version": 3
   },
   "file_extension": ".py",
   "mimetype": "text/x-python",
   "name": "python",
   "nbconvert_exporter": "python",
   "pygments_lexer": "ipython3",
   "version": "3.9.6"
  }
 },
 "nbformat": 4,
 "nbformat_minor": 5
}
